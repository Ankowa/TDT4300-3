{
 "cells": [
  {
   "cell_type": "code",
   "execution_count": 1,
   "metadata": {},
   "outputs": [],
   "source": [
    "import numpy as np\n",
    "import pandas as pd\n",
    "from scipy.cluster.hierarchy import dendrogram\n",
    "from scipy.spatial.distance import euclidean\n",
    "\n",
    "datapoints = [\n",
    "    [\"A\", 5, 4],\n",
    "    [\"B\", 4, 7],\n",
    "    [\"C\", 6, 8],\n",
    "    [\"D\", 8, 2],\n",
    "    [\"E\", 12, 7],\n",
    "    [\"F\", 11, 6],\n",
    "]\n",
    "coords = [\"x\", \"y\"]\n",
    "columns = [\"point\"] + coords\n",
    "points = pd.DataFrame(datapoints, columns=columns)\n",
    "points[coords] = points[coords].astype(np.float32)\n",
    "points\n",
    "get_coords = lambda x: points.loc[points.point == x, coords].values.flatten()\n"
   ]
  },
  {
   "cell_type": "code",
   "execution_count": 2,
   "metadata": {},
   "outputs": [],
   "source": [
    "get_clusters = lambda: points.point.values.tolist()\n",
    "clusters = get_clusters()\n"
   ]
  },
  {
   "cell_type": "code",
   "execution_count": 3,
   "metadata": {},
   "outputs": [],
   "source": [
    "def _calc_all_euclids(clust1, clust2):\n",
    "    if not isinstance(clust1, list):\n",
    "        clust1 = [clust1]\n",
    "    if not isinstance(clust2, list):\n",
    "        clust2 = [clust2]\n",
    "    distances = list()\n",
    "    for p1_name in clust1:\n",
    "        for p2_name in clust2:\n",
    "            p1 = get_coords(p1_name)\n",
    "            p2 = get_coords(p2_name)\n",
    "            distances.append(euclidean(p1, p2))\n",
    "    return distances\n",
    "\n",
    "\n",
    "def _min_lin(clust1, clust2):\n",
    "    distances = _calc_all_euclids(clust1.split(\",\"), clust2.split(\",\"))\n",
    "    return min(distances)\n",
    "\n",
    "\n",
    "def _max_lin(clust1, clust2):\n",
    "    distances = _calc_all_euclids(clust1.split(\",\"), clust2.split(\",\"))\n",
    "    return max(distances)\n"
   ]
  },
  {
   "cell_type": "code",
   "execution_count": 4,
   "metadata": {},
   "outputs": [],
   "source": [
    "def get_proximity_matrix(clusters: pd.DataFrame, lin=\"max\") -> pd.DataFrame:\n",
    "    dist = np.zeros((len(clusters), len(clusters)))\n",
    "    for x_idx, clust1 in enumerate(clusters):\n",
    "        for y_idx, clust2 in enumerate(clusters):\n",
    "            if clust1 == clust2:\n",
    "                val = 0\n",
    "            else:\n",
    "                if \",\" in clust1 or \",\" in clust2:\n",
    "                    if lin == \"max\":\n",
    "                        val = _max_lin(clust1, clust2)\n",
    "                    else:\n",
    "                        val = _min_lin(clust1, clust2)\n",
    "                else:\n",
    "                    p1 = get_coords(clust1)\n",
    "                    p2 = get_coords(clust2)\n",
    "                    val = euclidean(p1, p2)\n",
    "\n",
    "            dist[y_idx][x_idx] = val\n",
    "    dist = pd.DataFrame(dist, columns=clusters, index=clusters)\n",
    "    print(dist)\n",
    "    return dist + np.diag([np.inf] * dist.shape[0])\n"
   ]
  },
  {
   "cell_type": "code",
   "execution_count": 5,
   "metadata": {},
   "outputs": [],
   "source": [
    "def get_points_to_merge(dist: pd.DataFrame) -> list:\n",
    "    distance = dist.min().min()\n",
    "    p1, p2 = np.where(dist == distance)[0]\n",
    "    p1, p2 = dist.index[[p1, p2]].values.tolist()\n",
    "    print(p1, p2, distance)\n",
    "    return [p1, p2, distance]\n"
   ]
  },
  {
   "cell_type": "code",
   "execution_count": 99,
   "metadata": {},
   "outputs": [],
   "source": [
    "def merge_points(clusters: list, p1, p2, clust_mapping):\n",
    "    clusters.remove(p1)\n",
    "    clusters.remove(p2)\n",
    "    new_clust = f\"{p1},{p2}\"\n",
    "    clusters.append(new_clust)\n",
    "    clust_mapping[new_clust] = len(clust_mapping.keys())\n",
    "    print(clusters)\n"
   ]
  },
  {
   "cell_type": "code",
   "execution_count": 100,
   "metadata": {},
   "outputs": [],
   "source": [
    "def append_children(children: list, p1, p2, clust_mapping):\n",
    "    children.append(np.array([clust_mapping[p1], clust_mapping[p2]]))\n",
    "\n",
    "\n",
    "def append_distances(distances: list, dist):\n",
    "    distances.append(dist)\n"
   ]
  },
  {
   "cell_type": "code",
   "execution_count": 114,
   "metadata": {},
   "outputs": [],
   "source": [
    "clusters = get_clusters()\n",
    "clust_mapping = {point: idx for idx, point in enumerate(points.point.values)}\n",
    "children = list()\n",
    "distances = list()\n"
   ]
  },
  {
   "cell_type": "code",
   "execution_count": 119,
   "metadata": {},
   "outputs": [
    {
     "name": "stdout",
     "output_type": "stream",
     "text": [
      "         E,F  B,C,A,D\n",
      "E,F      0.0      8.0\n",
      "B,C,A,D  8.0      0.0\n",
      "E,F B,C,A,D 8.0\n",
      "['E,F,B,C,A,D']\n"
     ]
    }
   ],
   "source": [
    "dist = get_proximity_matrix(clusters, lin=\"max\")\n",
    "p1, p2, distance = get_points_to_merge(dist)\n",
    "merge_points(clusters, p1, p2, clust_mapping)\n",
    "append_children(children, p1, p2, clust_mapping)\n",
    "append_distances(distances, distance)\n"
   ]
  },
  {
   "cell_type": "code",
   "execution_count": 120,
   "metadata": {},
   "outputs": [],
   "source": [
    "children = np.array(children)\n",
    "distances = np.array(distances)"
   ]
  },
  {
   "cell_type": "code",
   "execution_count": 121,
   "metadata": {},
   "outputs": [],
   "source": [
    "# adjusted code from here: https://scikit-learn.org/stable/auto_examples/cluster/plot_agglomerative_dendrogram.html\n",
    "def plot_dendrogram(children, distances, data_labels, **kwargs):\n",
    "    # Create linkage matrix and then plot the dendrogram\n",
    "\n",
    "    # create the counts of samples under each node\n",
    "    counts = np.zeros(children.shape[0])\n",
    "    n_samples = len(data_labels)\n",
    "    for i, merge in enumerate(children):\n",
    "        current_count = 0\n",
    "        for child_idx in merge:\n",
    "            if child_idx < n_samples:\n",
    "                current_count += 1  # leaf node\n",
    "            else:\n",
    "                current_count += counts[child_idx - n_samples]\n",
    "        counts[i] = current_count\n",
    "\n",
    "    linkage_matrix = np.column_stack([children, distances, counts]).astype(float)\n",
    "\n",
    "    # Plot the corresponding dendrogram\n",
    "    dendrogram(linkage_matrix, **kwargs)\n"
   ]
  },
  {
   "cell_type": "code",
   "execution_count": 122,
   "metadata": {},
   "outputs": [
    {
     "data": {
      "image/png": "[encoded data removed]",
      "text/plain": [
       "<Figure size 640x480 with 1 Axes>"
      ]
     },
     "metadata": {},
     "output_type": "display_data"
    }
   ],
   "source": [
    "plot_dendrogram(children, distances, points.point.values.tolist(), labels=points.point.values.tolist())"
   ]
  }
 ],
 "metadata": {
  "kernelspec": {
   "display_name": "env",
   "language": "python",
   "name": "python3"
  },
  "language_info": {
   "codemirror_mode": {
    "name": "ipython",
    "version": 3
   },
   "file_extension": ".py",
   "mimetype": "text/x-python",
   "name": "python",
   "nbconvert_exporter": "python",
   "pygments_lexer": "ipython3",
   "version": "3.10.6"
  },
  "orig_nbformat": 4,
  "vscode": {
   "interpreter": {
    "hash": "33c923d4503a2f1fff6a3f09592a89aff251ea5752594ce79243b42ab53844a3"
   }
  }
 },
 "nbformat": 4,
 "nbformat_minor": 2
}
